{
  "nbformat": 4,
  "nbformat_minor": 0,
  "metadata": {
    "colab": {
      "name": "0417_Assignment.ipynb",
      "provenance": [],
      "collapsed_sections": [],
      "authorship_tag": "ABX9TyPpU/D5H5lRz00r6yVgKSmj",
      "include_colab_link": true
    },
    "kernelspec": {
      "name": "python3",
      "display_name": "Python 3"
    }
  },
  "cells": [
    {
      "cell_type": "markdown",
      "metadata": {
        "id": "view-in-github",
        "colab_type": "text"
      },
      "source": [
        "<a href=\"https://colab.research.google.com/github/B-bori/python/blob/master/0417_Assignment.ipynb\" target=\"_parent\"><img src=\"https://colab.research.google.com/assets/colab-badge.svg\" alt=\"Open In Colab\"/></a>"
      ]
    },
    {
      "cell_type": "markdown",
      "metadata": {
        "id": "dzUm76yUHmbD",
        "colab_type": "text"
      },
      "source": [
        "# ASSIGNMENT #1\n",
        "1. Create a list a_list, with the following elements 1, hello, [1,2,3] and True(i.e.Boolean)\n",
        "\n",
        "2. Find the value stored at index 1 of a_list \n",
        "\n",
        "3. Retrieve the elements stored at index 1,2 and 3 of a_list\n",
        "\n",
        "4. Concatenate the following lists A = [1, 'a'] and B = [2, 1, 'd']\n"
      ]
    },
    {
      "cell_type": "code",
      "metadata": {
        "id": "NiRinKTu9Yjk",
        "colab_type": "code",
        "colab": {}
      },
      "source": [
        "#1\n",
        "a_list=[1,'hello',[1,2,3],True]"
      ],
      "execution_count": 0,
      "outputs": []
    },
    {
      "cell_type": "code",
      "metadata": {
        "id": "oHtNDtQQZGTN",
        "colab_type": "code",
        "colab": {
          "base_uri": "https://localhost:8080/",
          "height": 35
        },
        "outputId": "61cf77e9-dbe2-411a-a136-a252d5f05eff"
      },
      "source": [
        "#2\n",
        "print(a_list[1])"
      ],
      "execution_count": 39,
      "outputs": [
        {
          "output_type": "stream",
          "text": [
            "hello\n"
          ],
          "name": "stdout"
        }
      ]
    },
    {
      "cell_type": "code",
      "metadata": {
        "id": "Tj-p295MZLab",
        "colab_type": "code",
        "colab": {
          "base_uri": "https://localhost:8080/",
          "height": 70
        },
        "outputId": "9859348a-26c8-4857-ebb4-4d2bdf11e113"
      },
      "source": [
        "#3\n",
        "print(a_list[1])\n",
        "print(a_list[2])\n",
        "print(a_list[3])"
      ],
      "execution_count": 40,
      "outputs": [
        {
          "output_type": "stream",
          "text": [
            "hello\n",
            "[1, 2, 3]\n",
            "True\n"
          ],
          "name": "stdout"
        }
      ]
    },
    {
      "cell_type": "code",
      "metadata": {
        "id": "9CECXgCmZOR5",
        "colab_type": "code",
        "colab": {
          "base_uri": "https://localhost:8080/",
          "height": 52
        },
        "outputId": "ce971554-5c21-436b-cc7d-68dc69201c47"
      },
      "source": [
        "#4\n",
        "A=[1,'a'] \n",
        "B=[2,1,'d']\n",
        "\n",
        "# sol1)\n",
        "C=A+B\n",
        "print(C)\n",
        "\n",
        "# sol2)\n",
        "A.extend(B)\n",
        "print(A)"
      ],
      "execution_count": 41,
      "outputs": [
        {
          "output_type": "stream",
          "text": [
            "[1, 'a', 2, 1, 'd']\n",
            "[1, 'a', 2, 1, 'd']\n"
          ],
          "name": "stdout"
        }
      ]
    },
    {
      "cell_type": "markdown",
      "metadata": {
        "id": "9wk99WAVM7Xy",
        "colab_type": "text"
      },
      "source": [
        "# Assignment #2\n",
        "\n",
        "Declare the soundtrack dictionary such as \n",
        "soundtrack_dic={\"The Bodyguard\":\"1992\", \"Saturday Night Fever\",\"1977\"}\n",
        "\n",
        "1. write a code to display all of the keys\n",
        "2. write a code to display all of the values\n"
      ]
    },
    {
      "cell_type": "code",
      "metadata": {
        "id": "NoJTfS7DGtNH",
        "colab_type": "code",
        "colab": {}
      },
      "source": [
        "soundtrack_dic={\"The Bodyguard\":\"1992\", \"Saturday Night Fever\":\"1977\"}"
      ],
      "execution_count": 0,
      "outputs": []
    },
    {
      "cell_type": "code",
      "metadata": {
        "id": "WFSao1-NZWgk",
        "colab_type": "code",
        "colab": {
          "base_uri": "https://localhost:8080/",
          "height": 35
        },
        "outputId": "186b01f7-099a-4abf-a034-ec42d49fea5d"
      },
      "source": [
        "#1\n",
        "print(soundtrack_dic.keys())"
      ],
      "execution_count": 43,
      "outputs": [
        {
          "output_type": "stream",
          "text": [
            "dict_keys(['The Bodyguard', 'Saturday Night Fever'])\n"
          ],
          "name": "stdout"
        }
      ]
    },
    {
      "cell_type": "code",
      "metadata": {
        "id": "I9Mr35zAZZ9l",
        "colab_type": "code",
        "colab": {
          "base_uri": "https://localhost:8080/",
          "height": 35
        },
        "outputId": "534a4f45-4a25-4857-ac5b-a6f9baa3fc36"
      },
      "source": [
        "#2\n",
        "print(soundtrack_dic.values())"
      ],
      "execution_count": 44,
      "outputs": [
        {
          "output_type": "stream",
          "text": [
            "dict_values(['1992', '1977'])\n"
          ],
          "name": "stdout"
        }
      ]
    },
    {
      "cell_type": "markdown",
      "metadata": {
        "id": "AAUKWxNoO4aY",
        "colab_type": "text"
      },
      "source": [
        "# ASSIGNMENT #3\n",
        "\n",
        "1. Convert the list ['rap', 'house', 'electronic music', 'rap'] to a set: \n",
        "2. Consider the list A=[1,2,2,1] and set B=set([1,2,2,1]), does sum(A)=sum(B)\n",
        "3. Create a new set album_set3 that is the union of album_set1 and album_set2: \n",
        "\n",
        "album_set1=set([\"Thriller\", \"AC/DC\", \"Back in Black\"])\n",
        "\n",
        "album_set2=set([\"AC/DC\", \"Back in Black\", \"The Dark Side of the Moon\"])\n",
        "4. Find out if album_set1 is a subset of album_set3\n"
      ]
    },
    {
      "cell_type": "code",
      "metadata": {
        "id": "gUGhq9WAGvq_",
        "colab_type": "code",
        "colab": {}
      },
      "source": [
        "L=['rap','house','electronic music','rap']"
      ],
      "execution_count": 0,
      "outputs": []
    },
    {
      "cell_type": "code",
      "metadata": {
        "id": "YhwXBUPUZgCF",
        "colab_type": "code",
        "colab": {}
      },
      "source": [
        "#1\n",
        "S=set(L)"
      ],
      "execution_count": 0,
      "outputs": []
    },
    {
      "cell_type": "code",
      "metadata": {
        "id": "3-OLs7QvZi75",
        "colab_type": "code",
        "colab": {
          "base_uri": "https://localhost:8080/",
          "height": 35
        },
        "outputId": "fc90c7f8-a792-490b-c3e6-1c726e1849dc"
      },
      "source": [
        "#2\n",
        "A=[1,2,2,1]\n",
        "B=set(A)\n",
        "sum(A)==sum(B) # The result must be False since set can't have same element"
      ],
      "execution_count": 47,
      "outputs": [
        {
          "output_type": "execute_result",
          "data": {
            "text/plain": [
              "False"
            ]
          },
          "metadata": {
            "tags": []
          },
          "execution_count": 47
        }
      ]
    },
    {
      "cell_type": "code",
      "metadata": {
        "id": "FgpiwFdBZnfV",
        "colab_type": "code",
        "colab": {
          "base_uri": "https://localhost:8080/",
          "height": 35
        },
        "outputId": "3aadad3a-63f9-4f57-bc3f-cc125a9d0fa6"
      },
      "source": [
        "#3\n",
        "album_set1=set([\"Thriller\", \"AC/DC\", \"Back in Black\"])\n",
        "album_set2=set([\"AC/DC\", \"Back in Black\", \"The Dark Side of the Moon\"])\n",
        "album_set3=album_set1 | album_set2\n",
        "print(album_set3)"
      ],
      "execution_count": 48,
      "outputs": [
        {
          "output_type": "stream",
          "text": [
            "{'Back in Black', 'The Dark Side of the Moon', 'AC/DC', 'Thriller'}\n"
          ],
          "name": "stdout"
        }
      ]
    },
    {
      "cell_type": "code",
      "metadata": {
        "id": "FzMZWIDCZppW",
        "colab_type": "code",
        "colab": {
          "base_uri": "https://localhost:8080/",
          "height": 35
        },
        "outputId": "9a308ff2-058f-4ca9-c6cc-b15cae56a14a"
      },
      "source": [
        "#4\n",
        "album_set1.issubset(album_set3)"
      ],
      "execution_count": 49,
      "outputs": [
        {
          "output_type": "execute_result",
          "data": {
            "text/plain": [
              "True"
            ]
          },
          "metadata": {
            "tags": []
          },
          "execution_count": 49
        }
      ]
    },
    {
      "cell_type": "markdown",
      "metadata": {
        "id": "WW9wE1dMTbgI",
        "colab_type": "text"
      },
      "source": [
        "# ASSIGNMENT #4-(1)\n",
        "Dict ={\"Artist\": \"Michael\", \"Genre\": \"R&B\", \"Sales\": 10000}\n",
        "\n",
        "When the Artist's name is \"Michael\", print out the genre of the artist\n",
        "\n",
        "# ASSIGNMENT #4-(2)\n",
        "1. Write a python program to convert temperatures to and from celsius, fahrenheit \n",
        "\n",
        "  (Kelvin temeprature limitation is -273 celcius, e.g., declare your value at -50000, 50000 )\n",
        "\n",
        "2. Write a Python program to count how many even numbers and odd number is in a list. (e.g., L=[1,2,3,5,31,28,91])\n",
        "\n",
        "3. Write a Python program, extending the codes from Question 2 in Assignment #4-2, how many prime numbers are in the list \n",
        "\n",
        "   [Note that if you solve this problem, you will win the Fields Medal (a kind of Nobel prize in Math)]\n",
        "\n",
        "  (What professor want to test in Question 3 is to nested conditions)"
      ]
    },
    {
      "cell_type": "code",
      "metadata": {
        "id": "c49f76ntHPKk",
        "colab_type": "code",
        "colab": {}
      },
      "source": [
        "# 4-(1)"
      ],
      "execution_count": 0,
      "outputs": []
    },
    {
      "cell_type": "code",
      "metadata": {
        "id": "gyx09p4KaA8x",
        "colab_type": "code",
        "colab": {
          "base_uri": "https://localhost:8080/",
          "height": 35
        },
        "outputId": "8c29ddbb-4f18-4df2-e8a3-6af270d07550"
      },
      "source": [
        "Dict ={\"Artist\": \"Michael\", \"Genre\": \"R&B\", \"Sales\": 10000}\n",
        "if(Dict[\"Artist\"]==\"Michael\"):\n",
        "  print(Dict[\"Genre\"])"
      ],
      "execution_count": 54,
      "outputs": [
        {
          "output_type": "stream",
          "text": [
            "R&B\n"
          ],
          "name": "stdout"
        }
      ]
    },
    {
      "cell_type": "code",
      "metadata": {
        "id": "cMJZL_m9WJLJ",
        "colab_type": "code",
        "colab": {}
      },
      "source": [
        "# 4-(2) "
      ],
      "execution_count": 0,
      "outputs": []
    },
    {
      "cell_type": "code",
      "metadata": {
        "id": "cutYT1ddyJmd",
        "colab_type": "code",
        "colab": {
          "base_uri": "https://localhost:8080/",
          "height": 52
        },
        "outputId": "e2528b12-a0e0-412f-9407-bf5127f79c7c"
      },
      "source": [
        "#1\n",
        "# convert celcius to fahrenheit\n",
        "  C=20\n",
        "  if(C<-273):\n",
        "    print(\"Error!\")\n",
        "  else: \n",
        "    F=(9/5)*C+32\n",
        "    print(F)\n",
        "\n",
        "# convert fahrenheit to celcius\n",
        "  F=68\n",
        "  C=(5/9)*(F-32)\n",
        "  if(C<-273):\n",
        "    print(\"Error!\")  \n",
        "  else:\n",
        "    print(C)"
      ],
      "execution_count": 32,
      "outputs": [
        {
          "output_type": "stream",
          "text": [
            "68.0\n",
            "20.0\n"
          ],
          "name": "stdout"
        }
      ]
    },
    {
      "cell_type": "markdown",
      "metadata": {
        "id": "duvyLJ7ElNfJ",
        "colab_type": "text"
      },
      "source": [
        "■ Generalize"
      ]
    },
    {
      "cell_type": "code",
      "metadata": {
        "id": "QO_tAIjwZx25",
        "colab_type": "code",
        "colab": {
          "base_uri": "https://localhost:8080/",
          "height": 70
        },
        "outputId": "0abeedc6-5d6e-487e-9a17-e1cd4f1aa76d"
      },
      "source": [
        "#1\n",
        "switch=input() # if switch==1, do convert celcius to fahrenheit, else if switch==0, do convert fahrenheit to celcius\n",
        "# convert celcius to fahrenheit\n",
        "if(switch=='1'):\n",
        "  C=int(input())\n",
        "  if(C<-273):\n",
        "    print(\"Error!\")\n",
        "  else: \n",
        "    F=(9/5)*C+32\n",
        "    print(F)\n",
        "# convert fahrenheit to celcius\n",
        "if(switch=='0'):\n",
        "  F=int(input())\n",
        "  C=(5/9)*(F-32)\n",
        "  if(C<-273):\n",
        "    print(\"Error!\")  \n",
        "  else:\n",
        "    print(C)"
      ],
      "execution_count": 52,
      "outputs": [
        {
          "output_type": "stream",
          "text": [
            "1\n",
            "20\n",
            "68.0\n"
          ],
          "name": "stdout"
        }
      ]
    },
    {
      "cell_type": "code",
      "metadata": {
        "id": "L8KVX2UqxxU_",
        "colab_type": "code",
        "colab": {
          "base_uri": "https://localhost:8080/",
          "height": 52
        },
        "outputId": "a1929e16-0fb4-4d22-f206-43e0b738f55f"
      },
      "source": [
        "#2\n",
        "L=[1,2,3,5,31,28,91]\n",
        "\n",
        "even=0\n",
        "odd=0\n",
        "\n",
        "for i in L:\n",
        "  if(i%2==0):\n",
        "    even+=1\n",
        "  else:\n",
        "    odd+=1\n",
        "\n",
        "print(even)\n",
        "print(odd)"
      ],
      "execution_count": 31,
      "outputs": [
        {
          "output_type": "stream",
          "text": [
            "2\n",
            "5\n"
          ],
          "name": "stdout"
        }
      ]
    },
    {
      "cell_type": "markdown",
      "metadata": {
        "id": "kSETcSMdlcIs",
        "colab_type": "text"
      },
      "source": [
        "■ Generalize"
      ]
    },
    {
      "cell_type": "code",
      "metadata": {
        "id": "8oNCK2z9Z1vl",
        "colab_type": "code",
        "colab": {
          "base_uri": "https://localhost:8080/",
          "height": 195
        },
        "outputId": "71070cb8-1522-42c5-a925-9f5d6cb3d9f3"
      },
      "source": [
        "#2\n",
        "n=int(input())\n",
        "L=[]\n",
        "for i in range(n):\n",
        "  L.append(int(input()))\n",
        "\n",
        "even=0\n",
        "odd=0\n",
        "\n",
        "for i in L:\n",
        "  if(i%2==0):\n",
        "    even+=1\n",
        "  else:\n",
        "    odd+=1\n",
        "\n",
        "if(even>=2):\n",
        "  print(\"There are\",even,\"even numbers in the list\")\n",
        "  if(odd>=2):\n",
        "    print(\"There are\",odd,\"odd numbers in the list\")\n",
        "  elif(odd==1):\n",
        "    print(\"There is\",odd,\"odd number in the list\")\n",
        "  elif(odd==0):\n",
        "    print(\"There are no odd numbers in the list\")\n",
        "\n",
        "elif(even==1):\n",
        "  print(\"There is\",even,\"even number in the list\")\n",
        "  if(odd>=2):\n",
        "    print(\"There are\",odd,\"odd numbers in the list\")\n",
        "  elif(odd==1):\n",
        "    print(\"There is\",odd,\"odd number in the list\")\n",
        "  elif(odd==0):\n",
        "    print(\"There are no odd numbers in the list\")\n",
        "\n",
        "elif(even==0):\n",
        "  print(\"There are\",even,\"even numbers in the list\")\n",
        "  if(odd>=2):\n",
        "    print(\"There are\",odd,\"odd numbers in the list\")\n",
        "  elif(odd==1):\n",
        "    print(\"There is\",odd,\"odd number in the list\")\n",
        "  elif(odd==0):\n",
        "    print(\"There are no odd numbers in the list\")"
      ],
      "execution_count": 2,
      "outputs": [
        {
          "output_type": "stream",
          "text": [
            "7\n",
            "1\n",
            "2\n",
            "3\n",
            "5\n",
            "31\n",
            "28\n",
            "91\n",
            "There are 2 even numbers in the list\n",
            "There are 5 odd numbers in the list\n"
          ],
          "name": "stdout"
        }
      ]
    },
    {
      "cell_type": "code",
      "metadata": {
        "id": "PUKNE11yydvJ",
        "colab_type": "code",
        "colab": {
          "base_uri": "https://localhost:8080/",
          "height": 35
        },
        "outputId": "b0a39d0e-1949-469f-8697-fdadbe175d21"
      },
      "source": [
        "#3 \n",
        "L=[1,2,3,5,31,28,91]\n",
        "\n",
        "cnt=0\n",
        "chk=0\n",
        "for i in L:\n",
        "  if(i!=1):\n",
        "    for j in range(2,i):\n",
        "      if(i%j==0):\n",
        "        chk+=1\n",
        "    if(chk==0):\n",
        "      cnt+=1\n",
        "    chk=0\n",
        "\n",
        "print(cnt)"
      ],
      "execution_count": 44,
      "outputs": [
        {
          "output_type": "stream",
          "text": [
            "4\n"
          ],
          "name": "stdout"
        }
      ]
    },
    {
      "cell_type": "markdown",
      "metadata": {
        "id": "Wn20W06WxeSm",
        "colab_type": "text"
      },
      "source": [
        "■ Generalize"
      ]
    },
    {
      "cell_type": "code",
      "metadata": {
        "id": "VLyTVpoxaDW0",
        "colab_type": "code",
        "colab": {
          "base_uri": "https://localhost:8080/",
          "height": 177
        },
        "outputId": "49f88272-eca4-48c9-e7bd-dd9f4fcbfd96"
      },
      "source": [
        "#3 \n",
        "n=int(input())\n",
        "L=[]\n",
        "for i in range(n):\n",
        "  L.append(int(input()))\n",
        "\n",
        "prime_cnt=0\n",
        "\n",
        "def prime_chk(x):\n",
        "  chk=0\n",
        "  if(x==1):\n",
        "    return 2\n",
        "  else:\n",
        "    for i in range(2,x):\n",
        "      if(x%i==0):\n",
        "        chk+=1\n",
        "        return chk\n",
        "        break\n",
        "    if(chk==0):\n",
        "     return 3 \n",
        "\n",
        "for i in L:\n",
        "  if(prime_chk(i)==3):\n",
        "    prime_cnt+=1\n",
        "\n",
        "print(prime_cnt)"
      ],
      "execution_count": 28,
      "outputs": [
        {
          "output_type": "stream",
          "text": [
            "7\n",
            "1\n",
            "2\n",
            "3\n",
            "5\n",
            "31\n",
            "28\n",
            "91\n",
            "4\n"
          ],
          "name": "stdout"
        }
      ]
    }
  ]
}