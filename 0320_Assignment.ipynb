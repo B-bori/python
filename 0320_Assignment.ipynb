{
  "nbformat": 4,
  "nbformat_minor": 0,
  "metadata": {
    "colab": {
      "name": "0320_Assignment.ipynb",
      "provenance": [],
      "collapsed_sections": [],
      "authorship_tag": "ABX9TyO5Ye1IjU9M3/SevJTnZZv5",
      "include_colab_link": true
    },
    "kernelspec": {
      "name": "python3",
      "display_name": "Python 3"
    }
  },
  "cells": [
    {
      "cell_type": "markdown",
      "metadata": {
        "id": "view-in-github",
        "colab_type": "text"
      },
      "source": [
        "<a href=\"https://colab.research.google.com/github/B-bori/python/blob/master/0320_Assignment.ipynb\" target=\"_parent\"><img src=\"https://colab.research.google.com/assets/colab-badge.svg\" alt=\"Open In Colab\"/></a>"
      ]
    },
    {
      "cell_type": "code",
      "metadata": {
        "id": "yenAIex2OmwH",
        "colab_type": "code",
        "outputId": "465d3dc7-414e-44f7-f974-eeaafb2fa9c1",
        "colab": {
          "base_uri": "https://localhost:8080/",
          "height": 52
        }
      },
      "source": [
        "#Question 1_answer\n",
        "from numpy import array\n",
        "A=array([(3,4), (-1,2)])\n",
        "B=array([(5,2), (8,-3)])\n",
        "A*B"
      ],
      "execution_count": 0,
      "outputs": [
        {
          "output_type": "execute_result",
          "data": {
            "text/plain": [
              "array([[15,  8],\n",
              "       [-8, -6]])"
            ]
          },
          "metadata": {
            "tags": []
          },
          "execution_count": 42
        }
      ]
    },
    {
      "cell_type": "code",
      "metadata": {
        "id": "zrFx-L7PZBIT",
        "colab_type": "code",
        "outputId": "2092f0ab-faf2-495c-ff4b-77d584a7fcc2",
        "colab": {
          "base_uri": "https://localhost:8080/",
          "height": 52
        }
      },
      "source": [
        "#Question 2_answer\n",
        "from numpy import array\n",
        "A=array([(3,4), (-1,2)])\n",
        "B=array([(5,2), (8,-3)])\n",
        "A.dot(B)"
      ],
      "execution_count": 0,
      "outputs": [
        {
          "output_type": "execute_result",
          "data": {
            "text/plain": [
              "array([[47, -6],\n",
              "       [11, -8]])"
            ]
          },
          "metadata": {
            "tags": []
          },
          "execution_count": 41
        }
      ]
    },
    {
      "cell_type": "code",
      "metadata": {
        "id": "5zx71JeOZGS7",
        "colab_type": "code",
        "outputId": "6ec42f5c-3a00-4e7e-ad2e-335fee3f8299",
        "colab": {
          "base_uri": "https://localhost:8080/",
          "height": 87
        }
      },
      "source": [
        "#Question 3_answer\n",
        "from numpy import array\n",
        "A=array([(3,4), (-1,2)])\n",
        "B=array([(5,2), (8,-3)])\n",
        "print(inv(A))\n",
        "print(inv(B))\n"
      ],
      "execution_count": 0,
      "outputs": [
        {
          "output_type": "stream",
          "text": [
            "[[ 0.2 -0.4]\n",
            " [ 0.1  0.3]]\n",
            "[[ 0.09677419  0.06451613]\n",
            " [ 0.25806452 -0.16129032]]\n"
          ],
          "name": "stdout"
        }
      ]
    },
    {
      "cell_type": "code",
      "metadata": {
        "id": "wmkGrRvdaGyh",
        "colab_type": "code",
        "outputId": "8d7609d4-56a6-4f51-d29b-29d0e0dbab15",
        "colab": {
          "base_uri": "https://localhost:8080/",
          "height": 34
        }
      },
      "source": [
        "#Question 4_answer\n",
        "import numpy as np\n",
        "A=array([(3,4), (-1,2)])\n",
        "np.trace(A)"
      ],
      "execution_count": 0,
      "outputs": [
        {
          "output_type": "execute_result",
          "data": {
            "text/plain": [
              "5"
            ]
          },
          "metadata": {
            "tags": []
          },
          "execution_count": 74
        }
      ]
    },
    {
      "cell_type": "code",
      "metadata": {
        "id": "pcsxmXy_bRuh",
        "colab_type": "code",
        "outputId": "f6017229-7177-4cb1-86ca-f2e6bf353820",
        "colab": {
          "base_uri": "https://localhost:8080/",
          "height": 52
        }
      },
      "source": [
        "#Question 5_answer\n",
        "from numpy import array\n",
        "A=array([1,2,3,4,5])\n",
        "print(A.ndim)\n",
        "print(A.shape)"
      ],
      "execution_count": 0,
      "outputs": [
        {
          "output_type": "stream",
          "text": [
            "1\n",
            "(5,)\n"
          ],
          "name": "stdout"
        }
      ]
    },
    {
      "cell_type": "code",
      "metadata": {
        "id": "aAyL-X-vOSST",
        "colab_type": "code",
        "outputId": "fbbcf948-6e84-46e3-ea65-64787cad6faf",
        "colab": {
          "base_uri": "https://localhost:8080/",
          "height": 122
        }
      },
      "source": [
        "#Question 6_answer\n",
        "import numpy as np\n",
        "a=np.arange(1,10).reshape(3,3)\n",
        "print(a)\n",
        "i=int(input())\n",
        "j=int(input())\n",
        "A=np.array(a[i-1,:])\n",
        "B=np.array(a[:,j-1])\n",
        "print(np.dot(A,B))"
      ],
      "execution_count": 0,
      "outputs": [
        {
          "output_type": "stream",
          "text": [
            "[[1 2 3]\n",
            " [4 5 6]\n",
            " [7 8 9]]\n",
            "1\n",
            "1\n",
            "30\n"
          ],
          "name": "stdout"
        }
      ]
    },
    {
      "cell_type": "code",
      "metadata": {
        "id": "hdhYjsSF9wL3",
        "colab_type": "code",
        "outputId": "9f218be6-bf3e-420c-d55d-a1ca25c949e5",
        "colab": {
          "base_uri": "https://localhost:8080/",
          "height": 52
        }
      },
      "source": [
        "#Question 7_answer\n",
        "import numpy as np\n",
        "A=array([(3,4), (-1,2)])\n",
        "B=array([(5,2), (8,-3)])\n",
        "np.dot(A,B)+2*np.dot(B,B)-np.identity(2)"
      ],
      "execution_count": 0,
      "outputs": [
        {
          "output_type": "execute_result",
          "data": {
            "text/plain": [
              "array([[128.,   2.],\n",
              "       [ 43.,  41.]])"
            ]
          },
          "metadata": {
            "tags": []
          },
          "execution_count": 78
        }
      ]
    },
    {
      "cell_type": "code",
      "metadata": {
        "id": "smLsdTkR5LaQ",
        "colab_type": "code",
        "outputId": "4b0509ed-e9cf-43c1-b2a7-c29844815777",
        "colab": {
          "base_uri": "https://localhost:8080/",
          "height": 87
        }
      },
      "source": [
        "#Question 8_answer\n",
        "import numpy as np\n",
        "A=array([(3,4), (-1,2)])\n",
        "B=array([(5,2), (8,-3)])\n",
        "print(np.transpose(A))\n",
        "print(np.transpose(B))"
      ],
      "execution_count": 0,
      "outputs": [
        {
          "output_type": "stream",
          "text": [
            "[[ 3 -1]\n",
            " [ 4  2]]\n",
            "[[ 5  8]\n",
            " [ 2 -3]]\n"
          ],
          "name": "stdout"
        }
      ]
    }
  ]
}