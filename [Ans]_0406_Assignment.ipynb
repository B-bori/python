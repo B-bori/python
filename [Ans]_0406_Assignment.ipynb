{
  "nbformat": 4,
  "nbformat_minor": 0,
  "metadata": {
    "colab": {
      "name": "[Ans] 0406_Assignment.ipynb",
      "provenance": [],
      "collapsed_sections": [],
      "include_colab_link": true
    },
    "kernelspec": {
      "name": "python3",
      "display_name": "Python 3"
    }
  },
  "cells": [
    {
      "cell_type": "markdown",
      "metadata": {
        "id": "view-in-github",
        "colab_type": "text"
      },
      "source": [
        "<a href=\"https://colab.research.google.com/github/B-bori/python/blob/master/%5BAns%5D_0406_Assignment.ipynb\" target=\"_parent\"><img src=\"https://colab.research.google.com/assets/colab-badge.svg\" alt=\"Open In Colab\"/></a>"
      ]
    },
    {
      "cell_type": "markdown",
      "metadata": {
        "id": "10gsQPnU05sV",
        "colab_type": "text"
      },
      "source": [
        "1."
      ]
    },
    {
      "cell_type": "code",
      "metadata": {
        "id": "rnbGlTtpufXd",
        "colab_type": "code",
        "outputId": "2a9bcac2-1146-4825-d78d-d3f4912cf240",
        "colab": {
          "base_uri": "https://localhost:8080/",
          "height": 51
        }
      },
      "source": [
        "from sympy import *\n",
        "\n",
        "x,y = symbols('x y')\n",
        "\n",
        "f = (x**2*y)/(x**4+y**2)\n",
        "\n",
        "fx = f.diff(x)\n",
        "fy = f.diff(y)\n",
        "\n",
        "jacobian_v = [fx,fy]\n",
        "jacobian_v"
      ],
      "execution_count": 0,
      "outputs": [
        {
          "output_type": "execute_result",
          "data": {
            "text/plain": [
              "[-4*x**5*y/(x**4 + y**2)**2 + 2*x*y/(x**4 + y**2),\n",
              " -2*x**2*y**2/(x**4 + y**2)**2 + x**2/(x**4 + y**2)]"
            ]
          },
          "metadata": {
            "tags": []
          },
          "execution_count": 1
        }
      ]
    },
    {
      "cell_type": "markdown",
      "metadata": {
        "id": "V88G2FGR0_kJ",
        "colab_type": "text"
      },
      "source": [
        "2."
      ]
    },
    {
      "cell_type": "code",
      "metadata": {
        "id": "a5gXV6ox0-_a",
        "colab_type": "code",
        "outputId": "b16bcdde-b3d2-4602-f137-1963185f2130",
        "colab": {
          "base_uri": "https://localhost:8080/",
          "height": 136
        }
      },
      "source": [
        "import sympy\n",
        "\n",
        "r,θ = symbols('r θ')\n",
        "\n",
        "x = r*cos(θ)\n",
        "y = r*sin(θ)\n",
        "\n",
        "fu = x.diff(r)\n",
        "fv = x.diff(θ)\n",
        "gu = y.diff(r)\n",
        "gv = y.diff(θ)\n",
        "\n",
        "jacobian_m = Matrix([[fu,fv],[gu,gv]])\n",
        "print(\"jacobian matrix =\")\n",
        "print(jacobian_m)\n",
        "\n",
        "print(\" \")\n",
        "det = sympy.det(jacobian_m)\n",
        "print(\"det of jacobian_m =\")\n",
        "print(det)\n",
        "print(\"r*(sin(θ)**2 + cos(θ)**2\")\n",
        "print(\"r*1 = r\")"
      ],
      "execution_count": 0,
      "outputs": [
        {
          "output_type": "stream",
          "text": [
            "jacobian matrix =\n",
            "Matrix([[cos(θ), -r*sin(θ)], [sin(θ), r*cos(θ)]])\n",
            " \n",
            "det of jacobian_m =\n",
            "r*sin(θ)**2 + r*cos(θ)**2\n",
            "r*(sin(θ)**2 + cos(θ)**2\n",
            "r*1 = r\n"
          ],
          "name": "stdout"
        }
      ]
    },
    {
      "cell_type": "markdown",
      "metadata": {
        "id": "Nahqil-w9bEG",
        "colab_type": "text"
      },
      "source": [
        "3."
      ]
    },
    {
      "cell_type": "code",
      "metadata": {
        "id": "FzY3RcuV6T98",
        "colab_type": "code",
        "outputId": "78cac6bc-99ff-4fa7-fecf-ecbacca572f7",
        "colab": {
          "base_uri": "https://localhost:8080/",
          "height": 395
        }
      },
      "source": [
        "import matplotlib.pyplot as plt\n",
        "import numpy as np\n",
        "\n",
        "# Calculate f'(0)\n",
        "x = Symbol('x')\n",
        "\n",
        "f = sqrt(x**2+exp(x**2))+cos(x**2+exp(x**2))\n",
        "f_prime = f.diff(x)\n",
        "\n",
        "result = f_prime.subs(x,0)\n",
        "print(\"f'(0)=\",result)\n",
        "\n",
        "\n",
        "# drawing graph of f(x)\n",
        "xx = sympy.lambdify(x, f)\n",
        "x_ = np.linspace(-10, 10, 20)\n",
        "y_ = xx(x_)\n",
        "print(y_)\n",
        "\n",
        "plt.plot(x_, y_)"
      ],
      "execution_count": 0,
      "outputs": [
        {
          "output_type": "stream",
          "text": [
            "f'(0)= 0\n",
            "[5.18470553e+21 2.41996784e+17 3.42064351e+13 1.46426189e+10\n",
            " 1.89820202e+07 7.45204231e+04 8.86412273e+02 3.29400180e+01\n",
            " 3.38102375e+00 1.23801582e+00 1.23801582e+00 3.38102375e+00\n",
            " 3.29400180e+01 8.86412273e+02 7.45204231e+04 1.89820192e+07\n",
            " 1.46426189e+10 3.42064351e+13 2.41996784e+17 5.18470553e+21]\n"
          ],
          "name": "stdout"
        },
        {
          "output_type": "execute_result",
          "data": {
            "text/plain": [
              "[<matplotlib.lines.Line2D at 0x7fcf5a238898>]"
            ]
          },
          "metadata": {
            "tags": []
          },
          "execution_count": 3
        },
        {
          "output_type": "display_data",
          "data": {
            "image/png": "[encoded data removed]",
            "text/plain": [
              "<Figure size 432x288 with 1 Axes>"
            ]
          },
          "metadata": {
            "tags": []
          }
        }
      ]
    }
  ]
}