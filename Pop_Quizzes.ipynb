{
  "nbformat": 4,
  "nbformat_minor": 0,
  "metadata": {
    "colab": {
      "name": "Pop Quizzes.ipynb",
      "provenance": [],
      "collapsed_sections": [],
      "authorship_tag": "ABX9TyM9SlOp8FJWg3ORJU7PQaD1",
      "include_colab_link": true
    },
    "kernelspec": {
      "name": "python3",
      "display_name": "Python 3"
    }
  },
  "cells": [
    {
      "cell_type": "markdown",
      "metadata": {
        "id": "view-in-github",
        "colab_type": "text"
      },
      "source": [
        "<a href=\"https://colab.research.google.com/github/B-bori/python/blob/master/Pop_Quizzes.ipynb\" target=\"_parent\"><img src=\"https://colab.research.google.com/assets/colab-badge.svg\" alt=\"Open In Colab\"/></a>"
      ]
    },
    {
      "cell_type": "code",
      "metadata": {
        "id": "9PrhRSgibZ88",
        "colab_type": "code",
        "outputId": "051638f8-f745-498a-dead-93bd8720e7f4",
        "colab": {
          "base_uri": "https://localhost:8080/",
          "height": 88
        }
      },
      "source": [
        "#Pop Quizzes\n",
        "\n",
        "#Q1 = Write your code below and press Shift+enter to execute \n",
        "\n",
        "print(\"Hello World!!\")\n",
        "\n",
        "#Q2\n",
        "#2-1 write your code below about \"What is the data type of the result 6 / 2\n",
        "#2-2 write your code below about \"What is the data type of the result 6 // 2\n",
        "\n",
        "print(type(6/2))\n",
        "print(type(6//2))\n",
        "\n",
        "#Q3\n",
        "# 1300 mins to covert into Total_Hour and the remaining goes into MInutes\n",
        "# write a code to read the total mins (e.g, 1300) to the right representing the hour, and the minute separately\n",
        "\n",
        "Total_Min=1300  \n",
        "Total_Hour=Total_Min/60\n",
        "Total_Time_Representing_1=int(Total_Hour)\n",
        "Total_Time_Representing_2=Total_Min%60\n",
        "print(\"Hour:\",Total_Time_Representing_1,\"Min:\",Total_Time_Representing_2)"
      ],
      "execution_count": 0,
      "outputs": [
        {
          "output_type": "stream",
          "text": [
            "Hello World!!\n",
            "<class 'float'>\n",
            "<class 'int'>\n",
            "Hour: 21 Min: 40\n"
          ],
          "name": "stdout"
        }
      ]
    }
  ]
}