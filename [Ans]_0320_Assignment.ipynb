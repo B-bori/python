{
  "nbformat": 4,
  "nbformat_minor": 0,
  "metadata": {
    "colab": {
      "name": "[Ans] 0320_Assignment.ipynb",
      "provenance": [],
      "collapsed_sections": [],
      "include_colab_link": true
    },
    "kernelspec": {
      "name": "python3",
      "display_name": "Python 3"
    }
  },
  "cells": [
    {
      "cell_type": "markdown",
      "metadata": {
        "id": "view-in-github",
        "colab_type": "text"
      },
      "source": [
        "<a href=\"https://colab.research.google.com/github/B-bori/python/blob/master/%5BAns%5D_0320_Assignment.ipynb\" target=\"_parent\"><img src=\"https://colab.research.google.com/assets/colab-badge.svg\" alt=\"Open In Colab\"/></a>"
      ]
    },
    {
      "cell_type": "code",
      "metadata": {
        "id": "yQR4YJe6kPV7",
        "colab_type": "code",
        "colab": {}
      },
      "source": [
        "import numpy as np"
      ],
      "execution_count": 0,
      "outputs": []
    },
    {
      "cell_type": "markdown",
      "metadata": {
        "id": "mxA3ZiXVkpZh",
        "colab_type": "text"
      },
      "source": [
        "### 1. Write a program to compute the multiplication of the two given matrixes. "
      ]
    },
    {
      "cell_type": "code",
      "metadata": {
        "id": "UD7o5WRsmS60",
        "colab_type": "code",
        "outputId": "1b373e2c-4cfa-4ca4-84f1-2046bcf1b3a5",
        "colab": {
          "base_uri": "https://localhost:8080/",
          "height": 51
        }
      },
      "source": [
        "A = np.array([[3,4],[-1,2]])\n",
        "B = np.array([[5,2],[8,-3]])\n",
        "np.matmul(A,B)"
      ],
      "execution_count": 0,
      "outputs": [
        {
          "output_type": "execute_result",
          "data": {
            "text/plain": [
              "array([[47, -6],\n",
              "       [11, -8]])"
            ]
          },
          "metadata": {
            "tags": []
          },
          "execution_count": 2
        }
      ]
    },
    {
      "cell_type": "code",
      "metadata": {
        "id": "Dh403YvZXQeF",
        "colab_type": "code",
        "outputId": "7af803ac-30bf-4cd0-e375-037046e6ab6a",
        "colab": {
          "base_uri": "https://localhost:8080/",
          "height": 51
        }
      },
      "source": [
        "A = np.matrix([[3,4],[-1,2]])\n",
        "B = np.matrix([[5,2],[8,-3]])\n",
        "A*B"
      ],
      "execution_count": 0,
      "outputs": [
        {
          "output_type": "execute_result",
          "data": {
            "text/plain": [
              "matrix([[47, -6],\n",
              "        [11, -8]])"
            ]
          },
          "metadata": {
            "tags": []
          },
          "execution_count": 3
        }
      ]
    },
    {
      "cell_type": "markdown",
      "metadata": {
        "id": "Ba3fYrcVn75i",
        "colab_type": "text"
      },
      "source": [
        "### 2.Write the dot product of the two given matrixes."
      ]
    },
    {
      "cell_type": "code",
      "metadata": {
        "id": "L1q0H-bDtmsi",
        "colab_type": "code",
        "outputId": "250d1a92-49da-4481-ec46-0fc01e439a11",
        "colab": {
          "base_uri": "https://localhost:8080/",
          "height": 51
        }
      },
      "source": [
        "A = np.array([[3,4],[-1,2]])\n",
        "B = np.array([[5,2],[8,-3]])\n",
        "np.dot(A,B)"
      ],
      "execution_count": 0,
      "outputs": [
        {
          "output_type": "execute_result",
          "data": {
            "text/plain": [
              "array([[47, -6],\n",
              "       [11, -8]])"
            ]
          },
          "metadata": {
            "tags": []
          },
          "execution_count": 4
        }
      ]
    },
    {
      "cell_type": "markdown",
      "metadata": {
        "id": "DjLDsWNntm5b",
        "colab_type": "text"
      },
      "source": [
        "### 3. Write a program to compute the inverse of the two given matrixes. "
      ]
    },
    {
      "cell_type": "code",
      "metadata": {
        "id": "iYcmRIMRtn48",
        "colab_type": "code",
        "colab": {}
      },
      "source": [
        "A = np.array([[3,4],[-1,2]])\n",
        "B = np.array([[5,2],[8,-3]])\n",
        "\n",
        "#inverse of A\n",
        "A_inv = np.linalg.inv(A)\n",
        "\n",
        "#inverse of B\n",
        "B_inv = np.linalg.inv(B)"
      ],
      "execution_count": 0,
      "outputs": []
    },
    {
      "cell_type": "code",
      "metadata": {
        "id": "rltT7Ac4uWO-",
        "colab_type": "code",
        "outputId": "7e8f559e-2c17-4758-eb1c-803541e207af",
        "colab": {
          "base_uri": "https://localhost:8080/",
          "height": 51
        }
      },
      "source": [
        "A_inv"
      ],
      "execution_count": 0,
      "outputs": [
        {
          "output_type": "execute_result",
          "data": {
            "text/plain": [
              "array([[ 0.2, -0.4],\n",
              "       [ 0.1,  0.3]])"
            ]
          },
          "metadata": {
            "tags": []
          },
          "execution_count": 6
        }
      ]
    },
    {
      "cell_type": "code",
      "metadata": {
        "id": "7mIi8PnHuhUZ",
        "colab_type": "code",
        "outputId": "b4dedcea-4349-46bb-f01b-18a8735021c5",
        "colab": {
          "base_uri": "https://localhost:8080/",
          "height": 51
        }
      },
      "source": [
        "B_inv"
      ],
      "execution_count": 0,
      "outputs": [
        {
          "output_type": "execute_result",
          "data": {
            "text/plain": [
              "array([[ 0.09677419,  0.06451613],\n",
              "       [ 0.25806452, -0.16129032]])"
            ]
          },
          "metadata": {
            "tags": []
          },
          "execution_count": 7
        }
      ]
    },
    {
      "cell_type": "markdown",
      "metadata": {
        "id": "j4fxtIsLwAWS",
        "colab_type": "text"
      },
      "source": [
        "### 4. Write a program to compute the sum of the diagonal element of a given array"
      ]
    },
    {
      "cell_type": "code",
      "metadata": {
        "id": "v4oyxv8tuiKx",
        "colab_type": "code",
        "outputId": "090930f7-8d72-464a-cdea-2f38086e6d37",
        "colab": {
          "base_uri": "https://localhost:8080/",
          "height": 51
        }
      },
      "source": [
        "A = np.array([[3,4],[-1,2]])\n",
        "A"
      ],
      "execution_count": 0,
      "outputs": [
        {
          "output_type": "execute_result",
          "data": {
            "text/plain": [
              "array([[ 3,  4],\n",
              "       [-1,  2]])"
            ]
          },
          "metadata": {
            "tags": []
          },
          "execution_count": 8
        }
      ]
    },
    {
      "cell_type": "code",
      "metadata": {
        "id": "6q83y1V1wAIx",
        "colab_type": "code",
        "outputId": "fee436d5-50e0-4bfa-ed10-caac74b6db1a",
        "colab": {
          "base_uri": "https://localhost:8080/",
          "height": 34
        }
      },
      "source": [
        "A_diag = np.diag(A)\n",
        "np.sum(A_diag)"
      ],
      "execution_count": 0,
      "outputs": [
        {
          "output_type": "execute_result",
          "data": {
            "text/plain": [
              "5"
            ]
          },
          "metadata": {
            "tags": []
          },
          "execution_count": 9
        }
      ]
    },
    {
      "cell_type": "markdown",
      "metadata": {
        "id": "mjkb2CuexKih",
        "colab_type": "text"
      },
      "source": [
        "### 5. Create a 1D (one-dimensional) NumPy array and verify its dimensions and shape. "
      ]
    },
    {
      "cell_type": "code",
      "metadata": {
        "id": "IHtVQWgcwWi3",
        "colab_type": "code",
        "outputId": "dc604f02-da74-42b9-d96d-2d6d9e62e2b0",
        "colab": {
          "base_uri": "https://localhost:8080/",
          "height": 68
        }
      },
      "source": [
        "oned = np.array([1,2,3,4,5,6,7,8,9,10,11,12,13,14,15,16,17,18])\n",
        "print(\"oned's shape: \",oned.shape)\n",
        "print(\"oned's dimension:\" , oned.ndim)\n",
        "print(oned)"
      ],
      "execution_count": 0,
      "outputs": [
        {
          "output_type": "stream",
          "text": [
            "oned's shape:  (18,)\n",
            "oned's dimension: 1\n",
            "[ 1  2  3  4  5  6  7  8  9 10 11 12 13 14 15 16 17 18]\n"
          ],
          "name": "stdout"
        }
      ]
    },
    {
      "cell_type": "code",
      "metadata": {
        "id": "lLv5xYXCxTzY",
        "colab_type": "code",
        "outputId": "cbc02614-0327-44ba-8aec-a903900e7620",
        "colab": {
          "base_uri": "https://localhost:8080/",
          "height": 102
        }
      },
      "source": [
        "# np.reshape\n",
        "reshaped = oned.reshape((3,6))\n",
        "print(\"reshaped's shape :\",reshaped.shape)\n",
        "print(\"reshaped's shape :\",reshaped.ndim)\n",
        "print(reshaped)"
      ],
      "execution_count": 0,
      "outputs": [
        {
          "output_type": "stream",
          "text": [
            "reshaped's shape : (3, 6)\n",
            "reshaped's shape : 2\n",
            "[[ 1  2  3  4  5  6]\n",
            " [ 7  8  9 10 11 12]\n",
            " [13 14 15 16 17 18]]\n"
          ],
          "name": "stdout"
        }
      ]
    },
    {
      "cell_type": "code",
      "metadata": {
        "id": "NWj0mSsExz2S",
        "colab_type": "code",
        "outputId": "45db8e98-bc6e-457a-94d9-a22d7a8a5ca3",
        "colab": {
          "base_uri": "https://localhost:8080/",
          "height": 238
        }
      },
      "source": [
        "# np.expand_dims()\n",
        "expandd = np.reshape(oned, (3,3,2))\n",
        "print(\"expandd's shape :\",expandd.shape)\n",
        "print(\"expandd's shape :\",expandd.ndim)\n",
        "print(expandd)"
      ],
      "execution_count": 0,
      "outputs": [
        {
          "output_type": "stream",
          "text": [
            "expandd's shape : (3, 3, 2)\n",
            "expandd's shape : 3\n",
            "[[[ 1  2]\n",
            "  [ 3  4]\n",
            "  [ 5  6]]\n",
            "\n",
            " [[ 7  8]\n",
            "  [ 9 10]\n",
            "  [11 12]]\n",
            "\n",
            " [[13 14]\n",
            "  [15 16]\n",
            "  [17 18]]]\n"
          ],
          "name": "stdout"
        }
      ]
    },
    {
      "cell_type": "markdown",
      "metadata": {
        "id": "uJfZKdPV3Fzs",
        "colab_type": "text"
      },
      "source": [
        "### 6. Write a NumPy program to return the dot product of row I and column j (both i and j would be pre-determined) "
      ]
    },
    {
      "cell_type": "code",
      "metadata": {
        "id": "Lff12x163Fce",
        "colab_type": "code",
        "outputId": "ade9a016-eec3-45aa-f39e-9902f8934e4d",
        "colab": {
          "base_uri": "https://localhost:8080/",
          "height": 68
        }
      },
      "source": [
        "# row i\n",
        "i = np.matrix([1,2,3,4])\n",
        "print(i.shape)\n",
        "\n",
        "# col j\n",
        "col = np.matrix([3,4,5,6])\n",
        "j = col.T\n",
        "print(j.shape)\n",
        "\n",
        "# dot product of i and j\n",
        "dot = i*j\n",
        "print(dot)"
      ],
      "execution_count": 0,
      "outputs": [
        {
          "output_type": "stream",
          "text": [
            "(1, 4)\n",
            "(4, 1)\n",
            "[[50]]\n"
          ],
          "name": "stdout"
        }
      ]
    },
    {
      "cell_type": "markdown",
      "metadata": {
        "id": "z71UQNDO6Kqo",
        "colab_type": "text"
      },
      "source": [
        "### 7. Compute the matrix equation AB+2B^2− I (I means the identity matrix) for matrices"
      ]
    },
    {
      "cell_type": "code",
      "metadata": {
        "id": "p0xVlKY00enJ",
        "colab_type": "code",
        "outputId": "4fccf4a9-e811-4baf-fde6-bda4db2e5113",
        "colab": {
          "base_uri": "https://localhost:8080/",
          "height": 51
        }
      },
      "source": [
        "A = np.matrix([[3,4],[-1,2]])\n",
        "B = np.matrix([[5,2],[8,-3]])\n",
        "\n",
        "\n",
        "np.dot(A,B)+(2*(B**2))-np.identity(2)"
      ],
      "execution_count": 0,
      "outputs": [
        {
          "output_type": "execute_result",
          "data": {
            "text/plain": [
              "matrix([[128.,   2.],\n",
              "        [ 43.,  41.]])"
            ]
          },
          "metadata": {
            "tags": []
          },
          "execution_count": 14
        }
      ]
    },
    {
      "cell_type": "markdown",
      "metadata": {
        "id": "PFu9FzEECl3I",
        "colab_type": "text"
      },
      "source": [
        "### 8. Compute AT and BT"
      ]
    },
    {
      "cell_type": "code",
      "metadata": {
        "id": "OVMAhiQgy959",
        "colab_type": "code",
        "outputId": "ad303fb2-3f01-42a3-96b5-6fa5ab471ad4",
        "colab": {
          "base_uri": "https://localhost:8080/",
          "height": 119
        }
      },
      "source": [
        "A = np.matrix([[3,4],[-1,2]])\n",
        "B = np.matrix([[5,2],[8,-3]])\n",
        "\n",
        "AT = A.T\n",
        "BT = B.T\n",
        "\n",
        "print(\"AT:\")\n",
        "print(AT)\n",
        "print(\"BT:\")\n",
        "print(BT)"
      ],
      "execution_count": 0,
      "outputs": [
        {
          "output_type": "stream",
          "text": [
            "AT:\n",
            "[[ 3 -1]\n",
            " [ 4  2]]\n",
            "BT:\n",
            "[[ 5  8]\n",
            " [ 2 -3]]\n"
          ],
          "name": "stdout"
        }
      ]
    }
  ]
}