{
  "nbformat": 4,
  "nbformat_minor": 0,
  "metadata": {
    "colab": {
      "name": "0420 Assignment.ipynb",
      "provenance": [],
      "collapsed_sections": []
    },
    "kernelspec": {
      "name": "python3",
      "display_name": "Python 3"
    }
  },
  "cells": [
    {
      "cell_type": "markdown",
      "metadata": {
        "id": "MpaUyQ92mVfC",
        "colab_type": "text"
      },
      "source": [
        "##Assignment (Due date is this Wendesday 9:00am) \n",
        "\n",
        "Apply the Newton method to find the solutions from my codes above. \n",
        "\n",
        "Then, compare how many times you have saved the number of calculation. \n"
      ]
    },
    {
      "cell_type": "code",
      "metadata": {
        "id": "sVGz888Al9D9",
        "colab_type": "code",
        "colab": {
          "base_uri": "https://localhost:8080/",
          "height": 141
        },
        "outputId": "a03269e1-1c60-412d-a7d9-15b7378df6c6"
      },
      "source": [
        "from sympy import *\n",
        "x=symbols('x')\n",
        "f=eval(input())\n",
        "fd=f.diff(x)\n",
        "a=int(input(\"Initial value: \"))\n",
        "tolerance=float(input(\"tolerance: \"))\n",
        "cnt=0\n",
        "\n",
        "# find approximated value with Newton method\n",
        "while True:\n",
        "  tmp=a-(f.subs(x,a)/fd.subs(x,a))\n",
        "  cnt+=1\n",
        "  if(abs(tmp-a)<tolerance):\n",
        "    break\n",
        "  a=tmp\n",
        "\n",
        "app_sol=N(tmp)\n",
        "sol=N(solve(f,x)[0]) # solve(f,x)[0] is the smallest solution in the solution set of f=0\n",
        "print(\"approximated value is {}\".format(app_sol))\n",
        "print(\"Real solution of the equation is {}\".format(sol))\n",
        "print(\"Gap between approximated value and real value is {}\".format(abs(app_sol-sol)))\n",
        "print(\"The number of iterations:\",cnt)"
      ],
      "execution_count": 17,
      "outputs": [
        {
          "output_type": "stream",
          "text": [
            "(x-2)**5\n",
            "Initial value: -18\n",
            "tolerance: 0.0000001\n",
            "approximated value is 1.99999964663059\n",
            "Real solution of the equation is 2.00000000000000\n",
            "Gap between approximated value and real value is 3.53369413064186E-7\n",
            "The number of iterations: 80\n"
          ],
          "name": "stdout"
        }
      ]
    }
  ]
}