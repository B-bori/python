{
  "nbformat": 4,
  "nbformat_minor": 0,
  "metadata": {
    "colab": {
      "name": "0406_Assignment.ipynb",
      "provenance": [],
      "collapsed_sections": [],
      "authorship_tag": "ABX9TyNjZXGqm37SY3wbIBfH+TJB",
      "include_colab_link": true
    },
    "kernelspec": {
      "name": "python3",
      "display_name": "Python 3"
    }
  },
  "cells": [
    {
      "cell_type": "markdown",
      "metadata": {
        "id": "view-in-github",
        "colab_type": "text"
      },
      "source": [
        "<a href=\"https://colab.research.google.com/github/B-bori/python/blob/master/0406_Assignment.ipynb\" target=\"_parent\"><img src=\"https://colab.research.google.com/assets/colab-badge.svg\" alt=\"Open In Colab\"/></a>"
      ]
    },
    {
      "cell_type": "code",
      "metadata": {
        "id": "7MlgzfXuO9th",
        "colab_type": "code",
        "outputId": "b8efa852-aeec-4bbf-8fcc-c2b3937a4d9f",
        "colab": {
          "base_uri": "https://localhost:8080/",
          "height": 35
        }
      },
      "source": [
        "#1\n",
        "import math\n",
        "from sympy import *\n",
        "x=Symbol('x')\n",
        "y=Symbol('y')\n",
        "f=(x**2*y)/(x**4+y**2)\n",
        "J1=diff(f,x)\n",
        "J2=diff(f,y)\n",
        "Jacobian=list([J1,J2])\n",
        "print(Jacobian)"
      ],
      "execution_count": 0,
      "outputs": [
        {
          "output_type": "stream",
          "text": [
            "[-4*x**5*y/(x**4 + y**2)**2 + 2*x*y/(x**4 + y**2), -2*x**2*y**2/(x**4 + y**2)**2 + x**2/(x**4 + y**2)]\n"
          ],
          "name": "stdout"
        }
      ]
    },
    {
      "cell_type": "code",
      "metadata": {
        "id": "ZS4ZEnEdPBKl",
        "colab_type": "code",
        "outputId": "6df6ddcf-b065-4747-8dc0-dcfe7ffc497a",
        "colab": {
          "base_uri": "https://localhost:8080/",
          "height": 70
        }
      },
      "source": [
        "#2\n",
        "import math\n",
        "from numpy.linalg import det\n",
        "from numpy import array \n",
        "f1=r*cos(x)\n",
        "f2=r*sin(x)\n",
        "J1_1=diff(f1,r)\n",
        "J1_2=diff(f1,x)\n",
        "J2_1=diff(f2,r)\n",
        "J2_2=diff(f2,x)\n",
        "# find Jacobian matrix\n",
        "J=array([[J1_1,J1_2],[J2_1,J2_2]])\n",
        "print(J)\n",
        "# find derivative\n",
        "determinant=J1_1*J2_2-J1_2*J2_1\n",
        "print(determinant)"
      ],
      "execution_count": 0,
      "outputs": [
        {
          "output_type": "stream",
          "text": [
            "[[cos(x) -r*sin(x)]\n",
            " [sin(x) r*cos(x)]]\n",
            "r*sin(x)**2 + r*cos(x)**2\n"
          ],
          "name": "stdout"
        }
      ]
    },
    {
      "cell_type": "code",
      "metadata": {
        "id": "pcVO1TXTPDRP",
        "colab_type": "code",
        "outputId": "f9866ac9-2e3c-45fd-edbb-1d3ae258cf50",
        "colab": {
          "base_uri": "https://localhost:8080/",
          "height": 430
        }
      },
      "source": [
        "#3\n",
        "\n",
        "# sol1)\n",
        "import math\n",
        "%matplotlib inline\n",
        "from matplotlib import pyplot as plt\n",
        "import sympy\n",
        "from sympy.plotting import plot\n",
        "y=sqrt(x**2+(math.e)**(x**2))+cos(x**2+(math.e)**(x**2))\n",
        "# calculate derivative of f(x) at point 0\n",
        "def fd(x):\n",
        "  return diff(y,x)\n",
        "ans=lambdify(x, diff(y, x))(0)\n",
        "print(ans)\n",
        "# draw the graph of f(x)\n",
        "plot(x, y) \n",
        "\n",
        "\n",
        "# sol2)\n",
        "import math\n",
        "%matplotlib inline\n",
        "from matplotlib import pyplot as plt\n",
        "import sympy\n",
        "x=sympy.Symbol('x')\n",
        "y=sympy.sqrt(x**2+(math.e)**(x**2))+sympy.cos(x**2+(math.e)**(x**2))\n",
        "def fd(y,x):\n",
        "  return sympy.diff(y,x)\n",
        "derivative=fd(y,x)\n",
        "derivative.evalf(subs={x:0})\n",
        "plot(x, y, line_color='m') "
      ],
      "execution_count": 0,
      "outputs": [
        {
          "output_type": "stream",
          "text": [
            "0.0\n"
          ],
          "name": "stdout"
        },
        {
          "output_type": "stream",
          "text": [
            "/usr/local/lib/python3.6/dist-packages/sympy/plotting/plot.py:890: MatplotlibDeprecationWarning: \n",
            "The set_smart_bounds function was deprecated in Matplotlib 3.2 and will be removed two minor releases later.\n",
            "  self.ax.spines['left'].set_smart_bounds(True)\n",
            "/usr/local/lib/python3.6/dist-packages/sympy/plotting/plot.py:891: MatplotlibDeprecationWarning: \n",
            "The set_smart_bounds function was deprecated in Matplotlib 3.2 and will be removed two minor releases later.\n",
            "  self.ax.spines['bottom'].set_smart_bounds(False)\n"
          ],
          "name": "stderr"
        },
        {
          "output_type": "display_data",
          "data": {
            "image/png": "[encoded data removed]",
            "text/plain": [
              "<Figure size 432x288 with 1 Axes>"
            ]
          },
          "metadata": {
            "tags": []
          }
        },
        {
          "output_type": "execute_result",
          "data": {
            "text/plain": [
              "<sympy.plotting.plot.Plot at 0x7f4ace26b978>"
            ]
          },
          "metadata": {
            "tags": []
          },
          "execution_count": 22
        }
      ]
    }
  ]
}