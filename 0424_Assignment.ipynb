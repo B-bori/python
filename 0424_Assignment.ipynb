{
  "nbformat": 4,
  "nbformat_minor": 0,
  "metadata": {
    "colab": {
      "name": "0424_Assignment.ipynb",
      "provenance": [],
      "collapsed_sections": []
    },
    "kernelspec": {
      "name": "python3",
      "display_name": "Python 3"
    }
  },
  "cells": [
    {
      "cell_type": "markdown",
      "metadata": {
        "id": "E5hnfG_G25T6",
        "colab_type": "text"
      },
      "source": [
        "# Assignment 1\n",
        "\n",
        "- Modify the Rectangle class in order to change (width, height, and color) :\n",
        "\n",
        " you need to declare three methods to do separately.."
      ]
    },
    {
      "cell_type": "code",
      "metadata": {
        "id": "vISJEsVY22BF",
        "colab_type": "code",
        "colab": {}
      },
      "source": [
        "import matplotlib.pyplot as plt\n",
        "%matplotlib inline\n",
        "\n",
        "class Rectangle(): \n",
        "\n",
        "  def __init__(self, width, height, color):\n",
        "    self.width=width\n",
        "    self.height=height\n",
        "    self.color=color\n",
        "\n",
        "  def add_width(self, w):\n",
        "    self.width = self.width +w \n",
        "    return self.width\n",
        "\n",
        "  def add_height(self, h):\n",
        "    self.height = self.height +h \n",
        "    return self.height\n",
        "\n",
        "  def change_color(self, new_color):\n",
        "    self.color=new_color\n",
        "    return self.color\n",
        "\n",
        "  def drawRectangle(self):\n",
        "    plt.gca().add_patch(plt.Rectangle((0,0), self.width, self.height, fc=self.color))\n",
        "    plt.axis('scaled')\n",
        "    plt.show()"
      ],
      "execution_count": 0,
      "outputs": []
    },
    {
      "cell_type": "code",
      "metadata": {
        "id": "rSvAQ4c_3DBP",
        "colab_type": "code",
        "colab": {
          "base_uri": "https://localhost:8080/",
          "height": 513
        },
        "outputId": "86c3eeef-4395-4262-e924-acaf90e6b922"
      },
      "source": [
        "a = Rectangle(2,10, 'blue')\n",
        "a.drawRectangle()\n",
        "a.add_width(10)\n",
        "a.add_height(2)\n",
        "a.change_color('green')\n",
        "a.drawRectangle()"
      ],
      "execution_count": 2,
      "outputs": [
        {
          "output_type": "display_data",
          "data": {
            "image/png": "[encoded data removed]",
            "text/plain": [
              "<Figure size 432x288 with 1 Axes>"
            ]
          },
          "metadata": {
            "tags": [],
            "needs_background": "light"
          }
        },
        {
          "output_type": "display_data",
          "data": {
            "image/png": "[encoded data removed]",
            "text/plain": [
              "<Figure size 432x288 with 1 Axes>"
            ]
          },
          "metadata": {
            "tags": [],
            "needs_background": "light"
          }
        }
      ]
    },
    {
      "cell_type": "markdown",
      "metadata": {
        "id": "5Br5n7-r3Kk3",
        "colab_type": "text"
      },
      "source": [
        "# Assignment #2 (Due by coming Monday)\n",
        "\n",
        "- Create a txt file with radius and color information (at least 3 lines)\n",
        "\n",
        "- Create a txt file with height, width, and color information (at least 3 lines)\n",
        "\n",
        "- Using your files (two txt files), you need to create objects (circles, and rectangles)"
      ]
    },
    {
      "cell_type": "code",
      "metadata": {
        "id": "oBXYf2P83Hyr",
        "colab_type": "code",
        "colab": {
          "base_uri": "https://localhost:8080/",
          "height": 127
        },
        "outputId": "650392b4-3737-4e10-dfa1-002876093730"
      },
      "source": [
        "from google.colab import drive\n",
        "drive.mount('/content/gdrive')"
      ],
      "execution_count": 3,
      "outputs": [
        {
          "output_type": "stream",
          "text": [
            "Go to this URL in a browser: https://accounts.google.com/o/oauth2/auth?client_id=947318989803-6bn6qk8qdgf4n4g3pfee6491hc0brc4i.apps.googleusercontent.com&redirect_uri=urn%3aietf%3awg%3aoauth%3a2.0%3aoob&response_type=code&scope=email%20https%3a%2f%2fwww.googleapis.com%2fauth%2fdocs.test%20https%3a%2f%2fwww.googleapis.com%2fauth%2fdrive%20https%3a%2f%2fwww.googleapis.com%2fauth%2fdrive.photos.readonly%20https%3a%2f%2fwww.googleapis.com%2fauth%2fpeopleapi.readonly\n",
            "\n",
            "Enter your authorization code:\n",
            "··········\n",
            "Mounted at /content/gdrive\n"
          ],
          "name": "stdout"
        }
      ]
    },
    {
      "cell_type": "code",
      "metadata": {
        "id": "pv0nLqfy3NFr",
        "colab_type": "code",
        "colab": {
          "base_uri": "https://localhost:8080/",
          "height": 490
        },
        "outputId": "2f90b87b-6084-431d-cd1e-bfcf36333c70"
      },
      "source": [
        "import matplotlib.pyplot as plt\n",
        "\n",
        "Circle = \"/content/gdrive/My Drive/Circle_info.txt\" \n",
        "file1=open(Circle,'r')\n",
        "content1=file1.read()\n",
        "print(content1,'\\n')\n",
        "\n",
        "Rectangle = \"/content/gdrive/My Drive/Rectangle_info.txt\"\n",
        "file2=open(Rectangle,'r')\n",
        "content2=file2.read()\n",
        "print(content2)\n",
        "\n",
        "class Circle():\n",
        "  def __init__(self, radius, color):\n",
        "    self.radius = radius\n",
        "    self.color = color\n",
        "  \n",
        "  def drawCircle(self):\n",
        "    plt.gca().add_patch(plt.Circle((0,0), radius = self.radius, fc=self.color)) \n",
        "    plt.axis('scaled') \n",
        "    plt.show() \n",
        "\n",
        "class Rectangle():\n",
        "  def __init__(self, width, height, color):\n",
        "    self.width = width\n",
        "    self.height = height\n",
        "    self.color = color \n",
        "  \n",
        "  def drawRectangle(self):\n",
        "    plt.gca().add_patch(plt.Rectangle((0,0), self.width, self.height, fc=self.color))\n",
        "    plt.axis('scaled')\n",
        "    plt.show()\n",
        "\n",
        "a=Circle(int(content1[19]), content1[28:-1])\n",
        "a.drawCircle()\n",
        "\n",
        "b=Rectangle(int(content2[21:23]), int(content2[31]), content2[-5:-1])\n",
        "b.drawRectangle()"
      ],
      "execution_count": 16,
      "outputs": [
        {
          "output_type": "stream",
          "text": [
            "Circle_info\n",
            "radius=7\n",
            "color='magenta' \n",
            "\n",
            "Rectangle_info\n",
            "width=14\n",
            "height=2\n",
            "color='cyan'\n"
          ],
          "name": "stdout"
        },
        {
          "output_type": "display_data",
          "data": {
            "image/png": "[encoded data removed]",
            "text/plain": [
              "<Figure size 432x288 with 1 Axes>"
            ]
          },
          "metadata": {
            "tags": [],
            "needs_background": "light"
          }
        },
        {
          "output_type": "display_data",
          "data": {
            "image/png": "[encoded data removed]",
            "text/plain": [
              "<Figure size 432x288 with 1 Axes>"
            ]
          },
          "metadata": {
            "tags": [],
            "needs_background": "light"
          }
        }
      ]
    },
    {
      "cell_type": "markdown",
      "metadata": {
        "id": "znJvMULW52Ni",
        "colab_type": "text"
      },
      "source": [
        "# Assignment #3\n",
        "\n",
        "- Create a method at Class Circle to calculate the size of the circle \n",
        "\n",
        "- Create a method at Class Rectangle to calculate the size of the rectangle\n",
        "\n",
        "- Write the results of each calculation"
      ]
    },
    {
      "cell_type": "code",
      "metadata": {
        "id": "eyx3xEAP3zy_",
        "colab_type": "code",
        "colab": {
          "base_uri": "https://localhost:8080/",
          "height": 53
        },
        "outputId": "022a6361-5bd2-4fe8-fbfa-765e11590571"
      },
      "source": [
        "import numpy as np\n",
        "\n",
        "class updated_Circle(Circle):\n",
        "  def size_Circle(self):\n",
        "    return (np.pi)*(self.radius)**2\n",
        "\n",
        "class updated_Rectangle(Rectangle):\n",
        "  def size_Rectangle(self):\n",
        "    return (self.width)*(self.height)\n",
        "\n",
        "a=updated_Circle(int(content1[19]), content1[28:-1])\n",
        "print(\"size of the given Circle=\", a.size_Circle())\n",
        "\n",
        "b=updated_Rectangle(int(content2[21:23]), int(content2[31]), content2[-5:-1])\n",
        "print(\"size of the given Rectangle=\", b.size_Rectangle())"
      ],
      "execution_count": 21,
      "outputs": [
        {
          "output_type": "stream",
          "text": [
            "size of the given Circle= 153.93804002589985\n",
            "size of the given Rectangle= 28\n"
          ],
          "name": "stdout"
        }
      ]
    }
  ]
}