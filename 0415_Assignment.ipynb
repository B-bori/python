{
  "nbformat": 4,
  "nbformat_minor": 0,
  "metadata": {
    "colab": {
      "name": "0415 Assignment.ipynb",
      "provenance": [],
      "collapsed_sections": [],
      "authorship_tag": "ABX9TyO7oNE86xnWJmWKGeoGUWkK",
      "include_colab_link": true
    },
    "kernelspec": {
      "name": "python3",
      "display_name": "Python 3"
    }
  },
  "cells": [
    {
      "cell_type": "markdown",
      "metadata": {
        "id": "view-in-github",
        "colab_type": "text"
      },
      "source": [
        "<a href=\"https://colab.research.google.com/github/B-bori/python/blob/master/0415_Assignment.ipynb\" target=\"_parent\"><img src=\"https://colab.research.google.com/assets/colab-badge.svg\" alt=\"Open In Colab\"/></a>"
      ]
    },
    {
      "cell_type": "code",
      "metadata": {
        "id": "bbJnNYgn-zWv",
        "colab_type": "code",
        "colab": {
          "base_uri": "https://localhost:8080/",
          "height": 266
        },
        "outputId": "2ac3e053-7e2b-4d18-9af1-24f7f4962633"
      },
      "source": [
        "# Assignment #1\n",
        "HYU='hanyanG-University'\n",
        "print(HYU.capitalize()) # capitalize first letter of string\n",
        "print(HYU.upper()) # capitalize all letters of string\n",
        "print(HYU.lower()) # convert all letters of string to lowercase\n",
        "print(HYU.casefold()) # convert all letters of string to lowercase \n",
        "print(HYU.title()) # capitalize the first character in each word \n",
        "print(HYU.swapcase()) # swaps cases, lower case becomes upper case and vice versa\n",
        "print(HYU.count('a')) # returns the number of times a specified value occurs in a string (It needs one parameter) e.g. string.count(substring)\n",
        "print(HYU.count('a',1,3)) # method 'count' can take optional parameters to specify starting position and ending position respectively e.g. string.count(substring, start, end) ('start' and 'end' should be integer parameters)\n",
        "print(HYU.center(30)) # returns HYU centered in a string with given length\n",
        "print(HYU.center(30,'!')) # method 'center' can take optional parameter to fill in string  \n",
        "print(HYU.split('-')) # breaks up a string at the specified separator and returns a list of strings.\n",
        "print(HYU.find('Universit',0,-1)) # returns the index of first occurrence of the substring (if found). If not found, it returns -1\n",
        "                                  # method 'find' can take optional parameter as starting position and ending position \n",
        "print(HYU.replace('hanyanG','Hanyang')) # returns a copy of the string where all occurrences of a substring is replaced with another substring\n",
        "print(\"I am a {} {} student\".format(HYU.split('-')[0],HYU.split('-')[1])) # formats the given string into a nicer output in Python"
      ],
      "execution_count": 47,
      "outputs": [
        {
          "output_type": "stream",
          "text": [
            "Hanyang-university\n",
            "HANYANG-UNIVERSITY\n",
            "hanyang-university\n",
            "hanyang-university\n",
            "Hanyang-University\n",
            "HANYANg-uNIVERSITY\n",
            "2\n",
            "1\n",
            "      hanyanG-University      \n",
            "!!!!!!hanyanG-University!!!!!!\n",
            "['hanyanG', 'University']\n",
            "8\n",
            "Hanyang-University\n",
            "I am a hanyanG University student\n"
          ],
          "name": "stdout"
        }
      ]
    },
    {
      "cell_type": "code",
      "metadata": {
        "id": "pKVtz87t_0A0",
        "colab_type": "code",
        "colab": {
          "base_uri": "https://localhost:8080/",
          "height": 444
        },
        "outputId": "f62f6f72-4405-47a5-ebed-dd1a292f2ddb"
      },
      "source": [
        "# Assignment #2 \n",
        "\n",
        "alphabet='abcdefghigklmnop'\n",
        "\n",
        "# Indexing\n",
        "print(alphabet[0])\n",
        "print(alphabet[1])\n",
        "for i in range(len(alphabet)):\n",
        "  print(alphabet[i])\n",
        "\n",
        "# Slicing & Striding\n",
        "print(alphabet[:])\n",
        "print(alphabet[0:-1])\n",
        "print(alphabet[:-1])\n",
        "print(alphabet[1:])\n",
        "print(alphabet[::2])\n",
        "print(alphabet[::100])\n",
        "\n"
      ],
      "execution_count": 67,
      "outputs": [
        {
          "output_type": "stream",
          "text": [
            "a\n",
            "b\n",
            "a\n",
            "b\n",
            "c\n",
            "d\n",
            "e\n",
            "f\n",
            "g\n",
            "h\n",
            "i\n",
            "g\n",
            "k\n",
            "l\n",
            "m\n",
            "n\n",
            "o\n",
            "p\n",
            "abcdefghigklmnop\n",
            "abcdefghigklmno\n",
            "abcdefghigklmno\n",
            "bcdefghigklmnop\n",
            "acegikmo\n",
            "a\n"
          ],
          "name": "stdout"
        }
      ]
    },
    {
      "cell_type": "code",
      "metadata": {
        "id": "Q2RPm_NOAcle",
        "colab_type": "code",
        "colab": {
          "base_uri": "https://localhost:8080/",
          "height": 70
        },
        "outputId": "774047b5-6e9b-44a4-e399-32f205ab6a77"
      },
      "source": [
        "# Assignment #3 \n",
        "\n",
        "Genre=('Pop', 'Rock', 'Soul', 'Hard Rock', 'Soft Rock', 'R&B', 'Progressive Rock', 'Disco')\n",
        "# sol 1) using method of tuple\n",
        "print(Genre.index('R&B'))\n",
        "\n",
        "# sol 2) using loop \n",
        "for i in range(len(Genre)):\n",
        "  if Genre[i]=='R&B':\n",
        "    print(i)\n",
        "\n",
        "# sol 3) by indexing '&' symbol\n",
        "for i in range(len(Genre)):\n",
        "  for j in range(len(Genre[i])):\n",
        "    if Genre[i][j]=='&':\n",
        "      print(i)"
      ],
      "execution_count": 74,
      "outputs": [
        {
          "output_type": "stream",
          "text": [
            "5\n",
            "5\n",
            "5\n"
          ],
          "name": "stdout"
        }
      ]
    }
  ]
}